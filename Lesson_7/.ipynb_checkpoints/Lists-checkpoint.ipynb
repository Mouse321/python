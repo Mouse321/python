{
 "cells": [
  {
   "cell_type": "markdown",
   "metadata": {},
   "source": [
    "# Lists"
   ]
  },
  {
   "cell_type": "code",
   "execution_count": 2,
   "metadata": {},
   "outputs": [
    {
     "name": "stdout",
     "output_type": "stream",
     "text": [
      "['hi, ok, :D']\n"
     ]
    }
   ],
   "source": [
    "my_list = [\"hi, ok, :D\"]\n",
    "print(my_list)"
   ]
  },
  {
   "cell_type": "code",
   "execution_count": 6,
   "metadata": {},
   "outputs": [
    {
     "name": "stdout",
     "output_type": "stream",
     "text": [
      "list \n",
      "['list ']\n"
     ]
    }
   ],
   "source": [
    "a=input()\n",
    "my_list2 = [a]\n",
    "print(my_list2)"
   ]
  },
  {
   "cell_type": "code",
   "execution_count": 2,
   "metadata": {},
   "outputs": [
    {
     "name": "stdout",
     "output_type": "stream",
     "text": [
      "dsaaaaaaaaaaaaaaaaaaaaaaasdwsrjswwwww6j w46\n",
      "['dsaaaaaaaaaaaaaaaaaaaaaaasdwsrjswwwww6j w46']\n"
     ]
    }
   ],
   "source": [
    "my_list3 = []\n",
    "a = input()\n",
    "my_list3.append(a)\n",
    "print(my_list3)"
   ]
  },
  {
   "cell_type": "code",
   "execution_count": 15,
   "metadata": {},
   "outputs": [
    {
     "name": "stdout",
     "output_type": "stream",
     "text": [
      "_\n",
      "U\n",
      "['_', 'U']\n"
     ]
    }
   ],
   "source": [
    "my_list4 = []\n",
    "a = input()\n",
    "b = input()\n",
    "my_list4.append(a)\n",
    "my_list4.append(b)\n",
    "print(my_list4)"
   ]
  },
  {
   "cell_type": "code",
   "execution_count": 13,
   "metadata": {},
   "outputs": [
    {
     "name": "stdout",
     "output_type": "stream",
     "text": [
      "What are your 3 favorite colors?\n",
      "black\n",
      "blue\n",
      "nothing\n",
      "['black', 'blue', 'nothing']\n"
     ]
    }
   ],
   "source": [
    "print(\"What are your 3 favorite colors?\")\n",
    "my_list5 = []\n",
    "a = input()\n",
    "b = input()\n",
    "c = input()\n",
    "my_list5.append(a)\n",
    "my_list5.append(b)  \n",
    "my_list5.append(c)\n",
    "print(my_list5)"
   ]
  },
  {
   "cell_type": "code",
   "execution_count": 19,
   "metadata": {},
   "outputs": [
    {
     "name": "stdout",
     "output_type": "stream",
     "text": [
      "\n",
      "'\n",
      "'\n",
      "'\n",
      "'\n",
      "['_', '_', '_', '_', '_']\n"
     ]
    }
   ],
   "source": [
    "my_list6 = []\n",
    "for i in range(5):\n",
    "    input()\n",
    "    my_list6.append(a)\n",
    "print(my_list6)"
   ]
  },
  {
   "cell_type": "code",
   "execution_count": 38,
   "metadata": {},
   "outputs": [
    {
     "name": "stdout",
     "output_type": "stream",
     "text": [
      "David\n",
      "James\n",
      "Bill\n"
     ]
    }
   ],
   "source": [
    "names = ['David', 'James', 'Bill']\n",
    "for i in range(3):\n",
    "    print (names[i])"
   ]
  },
  {
   "cell_type": "code",
   "execution_count": 46,
   "metadata": {},
   "outputs": [
    {
     "name": "stdout",
     "output_type": "stream",
     "text": [
      "goodbye, David\n",
      "James\n",
      "Bill\n"
     ]
    }
   ],
   "source": [
    "names = ['David', 'James', 'Bill']\n",
    "for i in range(3):\n",
    "    if names[i] == 'David':\n",
    "        print (\"goodbye, David\")\n",
    "    else: print(names[])\n",
    "    "
   ]
  },
  {
   "cell_type": "code",
   "execution_count": null,
   "metadata": {},
   "outputs": [],
   "source": []
  }
 ],
 "metadata": {
  "kernelspec": {
   "display_name": "Python 3",
   "language": "python",
   "name": "python3"
  },
  "language_info": {
   "codemirror_mode": {
    "name": "ipython",
    "version": 3
   },
   "file_extension": ".py",
   "mimetype": "text/x-python",
   "name": "python",
   "nbconvert_exporter": "python",
   "pygments_lexer": "ipython3",
   "version": "3.8.3"
  }
 },
 "nbformat": 4,
 "nbformat_minor": 4
}
